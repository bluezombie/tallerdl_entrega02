{
 "cells": [
  {
   "cell_type": "markdown",
   "metadata": {
    "id": "hRqWqRvQ6coi"
   },
   "source": [
    "# Tarea 2 - Taller de Deep Learning\n",
    "\n",
    "**Fecha de entrega: 24/11/2024**  \n",
    "**Puntaje máximo: 15**\n",
    "\n",
    "## Introducción\n",
    "\n",
    "El objetivo de esta tarea es evaluar su capacidad para aplicar modelos de redes neuronales recurrentes (RNN) en un problema de clasificación de secuencias. En particular, vamos a evaluar la performance de sus modelos en la clasificación de ritmos cardíacos usando datos de electrocardiograma (ECG).\n",
    "\n",
    "**Dataset**\n",
    "\n",
    "El dataset a ser utilizado es el [Heartbeat Dataset](https://www.kaggle.com/datasets/shayanfazeli/heartbeat). Este dataset contiene señales de ECG segmentadas, donde cada segmento corresponde a un latido del corazón. Cada segmento ya está preprocesado y categorizado en una de las siguientes clases:\n",
    "\n",
    "- **N**: Normal (0)\n",
    "- **S**: Arritmia supraventricular (1)\n",
    "- **V**: Arritmia ventricular (2)\n",
    "- **F**: Latido fusionado (3)\n",
    "- **Q**: Latido desconocido (4)\n",
    "\n",
    "Los archivos del dataset que deben utilizar son:\n",
    "\n",
    "- **mitbih_train.csv**: Datos de entrenamiento.\n",
    "- **mitbih_test.csv**: Datos de prueba.\n",
    "\n",
    "**Tarea**\n",
    "\n",
    "Tienen total libertad sobre cómo implementar y resolver el problema, así como las técnicas y herramientas que quieran usar. Se recomienda el uso de Google Colab para simplificar el acceso a recursos de GPU, aunque pueden trabajar en sus propias máquinas si lo prefieren. La entrega debe realizarse en formato .ipynb (Jupyter Notebook).\n",
    "\n",
    "**Restricciones**\n",
    "\n",
    "- No se permite utilizar modelos pre-entrenados; cada modelo debe ser implementado desde cero.\n",
    "- Deben utilizar al menos un modelo basado en RNN (por ejemplo, LSTM o GRU).\n",
    "- Es necesario realizar un **análisis exploratorio de los datos**, que incluya una descripción de las señales ECG, el balanceo de clases y cualquier limpieza o transformación necesaria de los datos.\n",
    "- Las decisiones sobre el preprocesamiento de las señales (como normalización, segmentación, etc.) deben estar fundamentadas en una exploración inicial del dataset y explicadas en el notebook.\n",
    "\n",
    "**Reporte**\n",
    "\n",
    "Se requiere que reporten las siguientes métricas: accuracy, precision, recall y F1-score para la evaluación del modelo. Además, se espera ver una evolución clara del modelo durante el entrenamiento, que incluya logs y gráficas de las métricas tanto para los datos de entrenamiento como de validación.\n",
    "\n",
    "**Evidencia de Experimentos**\n",
    "\n",
    "Deben proporcionar evidencia de la ejecución de experimentos usando [Weights & Biases (wandb)](https://wandb.ai/). Esto incluye:\n",
    "\n",
    "- Registros detallados de los experimentos.\n",
    "- Gráficas y logs de entrenamiento.\n",
    "- Comparaciones entre diferentes configuraciones de modelos."
   ]
  },
  {
   "cell_type": "markdown",
   "metadata": {
    "id": "qHpsRibZ6col"
   },
   "source": [
    "Comenzamos con la descarga e instalación de librerías y dependencias necesarias."
   ]
  },
  {
   "cell_type": "code",
   "execution_count": 1,
   "metadata": {
    "colab": {
     "base_uri": "https://localhost:8080/"
    },
    "id": "GKMU0QQr6col",
    "outputId": "74a1e6ba-20cc-4710-d8be-5c80a2977df7"
   },
   "outputs": [
    {
     "name": "stdout",
     "output_type": "stream",
     "text": [
      "Looking in indexes: https://pypi.org/simple, https://download.pytorch.org/whl/cu118\n",
      "Requirement already satisfied: torch in /usr/local/lib/python3.10/dist-packages (2.5.1+cu121)\n",
      "Collecting torchinfo\n",
      "  Downloading torchinfo-1.8.0-py3-none-any.whl.metadata (21 kB)\n",
      "Requirement already satisfied: torchvision in /usr/local/lib/python3.10/dist-packages (0.20.1+cu121)\n",
      "Requirement already satisfied: torchaudio in /usr/local/lib/python3.10/dist-packages (2.5.1+cu121)\n",
      "Requirement already satisfied: filelock in /usr/local/lib/python3.10/dist-packages (from torch) (3.16.1)\n",
      "Requirement already satisfied: typing-extensions>=4.8.0 in /usr/local/lib/python3.10/dist-packages (from torch) (4.12.2)\n",
      "Requirement already satisfied: networkx in /usr/local/lib/python3.10/dist-packages (from torch) (3.4.2)\n",
      "Requirement already satisfied: jinja2 in /usr/local/lib/python3.10/dist-packages (from torch) (3.1.4)\n",
      "Requirement already satisfied: fsspec in /usr/local/lib/python3.10/dist-packages (from torch) (2024.10.0)\n",
      "Requirement already satisfied: sympy==1.13.1 in /usr/local/lib/python3.10/dist-packages (from torch) (1.13.1)\n",
      "Requirement already satisfied: mpmath<1.4,>=1.1.0 in /usr/local/lib/python3.10/dist-packages (from sympy==1.13.1->torch) (1.3.0)\n",
      "Requirement already satisfied: numpy in /usr/local/lib/python3.10/dist-packages (from torchvision) (1.26.4)\n",
      "Requirement already satisfied: pillow!=8.3.*,>=5.3.0 in /usr/local/lib/python3.10/dist-packages (from torchvision) (11.0.0)\n",
      "Requirement already satisfied: MarkupSafe>=2.0 in /usr/local/lib/python3.10/dist-packages (from jinja2->torch) (3.0.2)\n",
      "Downloading torchinfo-1.8.0-py3-none-any.whl (23 kB)\n",
      "Installing collected packages: torchinfo\n",
      "Successfully installed torchinfo-1.8.0\n",
      "Requirement already satisfied: scikit-learn in /usr/local/lib/python3.10/dist-packages (1.5.2)\n",
      "Requirement already satisfied: numpy>=1.19.5 in /usr/local/lib/python3.10/dist-packages (from scikit-learn) (1.26.4)\n",
      "Requirement already satisfied: scipy>=1.6.0 in /usr/local/lib/python3.10/dist-packages (from scikit-learn) (1.13.1)\n",
      "Requirement already satisfied: joblib>=1.2.0 in /usr/local/lib/python3.10/dist-packages (from scikit-learn) (1.4.2)\n",
      "Requirement already satisfied: threadpoolctl>=3.1.0 in /usr/local/lib/python3.10/dist-packages (from scikit-learn) (3.5.0)\n"
     ]
    }
   ],
   "source": [
    "\n",
    "!pip install torch torchinfo torchvision torchaudio --extra-index-url https://download.pytorch.org/whl/cu118\n",
    "!pip install scikit-learn"
   ]
  },
  {
   "cell_type": "code",
   "execution_count": 3,
   "metadata": {
    "id": "DmBZIZZo6com"
   },
   "outputs": [],
   "source": [
    "import torch\n",
    "import torch.nn as nn\n",
    "import torch.nn.functional as F\n",
    "import torch.optim as optim\n",
    "from torch.utils.data import DataLoader, Dataset, random_split\n",
    "import torchvision.datasets as datasets\n",
    "\n",
    "from torchvision.transforms import v2 as T\n",
    "from torchvision.io import read_image, ImageReadMode\n",
    "\n",
    "from torchinfo import summary\n",
    "\n",
    "import matplotlib.pyplot as plt\n",
    "\n",
    "import os\n",
    "from pathlib import Path\n",
    "\n",
    "import pandas as pd\n",
    "import matplotlib.pyplot as plt\n",
    "from sklearn.model_selection import train_test_split\n",
    "from sklearn.metrics import (\n",
    "    accuracy_score,\n",
    "    classification_report,\n",
    ")\n",
    "\n",
    "import numpy as np\n",
    "\n",
    "import sys\n",
    "import platform\n",
    "\n",
    "from tqdm.notebook import tqdm_notebook\n",
    "\n",
    "from utils import (\n",
    "    train,\n",
    "    model_calassification_report,\n",
    "    show_tensor_image, #Revisar si son necesarios\n",
    "    show_tensor_images, # Revisar si son necesarios\n",
    ")"
   ]
  },
  {
   "cell_type": "markdown",
   "metadata": {
    "id": "zzaF7hD96con"
   },
   "source": [
    "Comenzamos con la descarga del dataset, y el análisis exploratorio"
   ]
  },
  {
   "cell_type": "code",
   "execution_count": 4,
   "metadata": {
    "colab": {
     "base_uri": "https://localhost:8080/"
    },
    "id": "VdsjQRjq6con",
    "outputId": "b598461f-256c-4099-94de-4df30dbbe713"
   },
   "outputs": [
    {
     "name": "stdout",
     "output_type": "stream",
     "text": [
      "  % Total    % Received % Xferd  Average Speed   Time    Time     Time  Current\n",
      "                                 Dload  Upload   Total   Spent    Left  Speed\n",
      "  0     0    0     0    0     0      0      0 --:--:-- --:--:-- --:--:--     0\n",
      "100 98.8M  100 98.8M    0     0  14.7M      0  0:00:06  0:00:06 --:--:-- 20.9M\n"
     ]
    }
   ],
   "source": [
    "!mkdir data\n",
    "\n",
    "!curl -L -o ./data/archive.zip https://www.kaggle.com/api/v1/datasets/download/shayanfazeli/heartbeat"
   ]
  },
  {
   "cell_type": "code",
   "execution_count": 5,
   "metadata": {
    "id": "BHDG4cG06con"
   },
   "outputs": [],
   "source": [
    "!unzip ./data/archive.zip -d ./data > /dev/null 2>&1"
   ]
  },
  {
   "cell_type": "code",
   "execution_count": 6,
   "metadata": {
    "colab": {
     "base_uri": "https://localhost:8080/"
    },
    "id": "0fLezzXt6con",
    "outputId": "934744ca-8c4c-4aad-f4ec-5e20fa1dc2cb"
   },
   "outputs": [
    {
     "name": "stdout",
     "output_type": "stream",
     "text": [
      "Device: cuda\n",
      "Num Workers: 1\n"
     ]
    }
   ],
   "source": [
    "# Algunas constantes\n",
    "\n",
    "# definimos el dispositivo que vamos a usar\n",
    "DEVICE = \"cpu\"  # por defecto, usamos la CPU\n",
    "if torch.cuda.is_available():\n",
    "    DEVICE = \"cuda\"  # si hay GPU, usamos la GPU\n",
    "elif torch.backends.mps.is_available():\n",
    "    DEVICE = \"mps\"  # si no hay GPU, pero hay MPS, usamos MPS\n",
    "\n",
    "def get_workers():\n",
    "    os_type = platform.system()\n",
    "    if os_type == \"Linux\" or os_type == \"Windows\":\n",
    "        if os.cpu_count() < 4:\n",
    "            return 0\n",
    "        else:\n",
    "            return os.cpu_count() - 1\n",
    "    else:\n",
    "        return 0\n",
    "\n",
    "# NUM_WORKERS = get_workers()  # número de workers para cargar los datos\n",
    "NUM_WORKERS = max(os.cpu_count() - 1, 1)\n",
    "BATCH_SIZE = 256  # tamaño del batch\n",
    "\n",
    "print(f\"Device: {DEVICE}\")\n",
    "print(f\"Num Workers: {NUM_WORKERS}\")"
   ]
  },
  {
   "cell_type": "markdown",
   "metadata": {
    "id": "vj8bEudT6con"
   },
   "source": [
    "Comenzamos con la carga de los datos, y el análisis exploratorio"
   ]
  },
  {
   "cell_type": "code",
   "execution_count": 7,
   "metadata": {
    "colab": {
     "base_uri": "https://localhost:8080/"
    },
    "id": "rSVCS-uL6con",
    "outputId": "55963920-1a51-4adc-c882-cdaaebda7329"
   },
   "outputs": [
    {
     "name": "stdout",
     "output_type": "stream",
     "text": [
      "Existen 5 clases y 187 características\n"
     ]
    }
   ],
   "source": [
    "TRAIN_DATA_PATH = \"./data/mitbih_train.csv\"\n",
    "TEST_DATA_PATH = \"./data/mitbih_test.csv\"\n",
    "\n",
    "df_train = pd.read_csv(TRAIN_DATA_PATH, header=None)\n",
    "df_test = pd.read_csv(TEST_DATA_PATH, header=None)\n",
    "\n",
    "# Concatenamos los datos de entrenamiento y test\n",
    "df = pd.concat([df_train, df_test], axis=0)\n",
    "\n",
    "# Restamos 1 ya que la última columna representa\n",
    "# la clasificación.\n",
    "ninputs = df.shape[1] - 1\n",
    "\n",
    "# Para contar las clases, nos quedamos con la última columna de los datos\n",
    "# y contamos los valores únicos.\n",
    "nclasses = df.iloc[:, -1].nunique()\n",
    "print(f\"Existen {nclasses} clases y {ninputs} características\")\n"
   ]
  },
  {
   "cell_type": "code",
   "execution_count": 8,
   "metadata": {
    "colab": {
     "base_uri": "https://localhost:8080/",
     "height": 670
    },
    "id": "oKpTrbnp6coo",
    "outputId": "77c232ad-ffd4-457f-b36c-365a35138d77"
   },
   "outputs": [
    {
     "name": "stdout",
     "output_type": "stream",
     "text": [
      "<class 'pandas.core.frame.DataFrame'>\n",
      "RangeIndex: 21892 entries, 0 to 21891\n",
      "Columns: 188 entries, 0 to 187\n",
      "dtypes: float64(188)\n",
      "memory usage: 31.4 MB\n",
      "187\n",
      "0.0    90589\n",
      "4.0     8039\n",
      "2.0     7236\n",
      "1.0     2779\n",
      "3.0      803\n",
      "Name: count, dtype: int64\n"
     ]
    },
    {
     "data": {
      "text/plain": [
       "<Axes: xlabel='187'>"
      ]
     },
     "execution_count": 8,
     "metadata": {},
     "output_type": "execute_result"
    },
    {
     "data": {
      "image/png": "[encoded data removed]",
      "text/plain": [
       "<Figure size 640x480 with 1 Axes>"
      ]
     },
     "metadata": {},
     "output_type": "display_data"
    }
   ],
   "source": [
    "df_test.info()\n",
    "df_test.head()\n",
    "\n",
    "X_train = df_train.iloc[:, :-1]  # Extraemos las características\n",
    "y_train = df_train.iloc[:, -1]  # Extraemos las etiquetas\n",
    "\n",
    "X_test = df_test.iloc[:, :-1]\n",
    "y_test = df_test.iloc[:, -1]\n",
    "\n",
    "class_count = df.iloc[:, -1].value_counts()\n",
    "print(class_count)\n",
    "\n",
    "class_count.sort_index().plot(kind=\"bar\")"
   ]
  },
  {
   "cell_type": "markdown",
   "metadata": {
    "id": "ggSNiS756coo"
   },
   "source": [
    "Como se puede observar, existe un gran desbalanceo en la información,\n",
    "teniendo una gran cantidad de datos cuya clasificación es \"0\"."
   ]
  },
  {
   "cell_type": "code",
   "execution_count": null,
   "metadata": {
    "id": "jDuhnrhw6coo"
   },
   "outputs": [],
   "source": [
    "Analizaremos de forma cualitativa los datos. Comenzaremos por visualizar los datos,\n",
    "qué representan, los valores máximos y mínimos, y cómo se distribuyen."
   ]
  },
  {
   "cell_type": "code",
   "execution_count": 9,
   "metadata": {
    "colab": {
     "base_uri": "https://localhost:8080/",
     "height": 429
    },
    "id": "NhAt76lV6coo",
    "outputId": "62de7474-699c-412d-84c1-282007f02e7f"
   },
   "outputs": [
    {
     "data": {
      "image/png": "[encoded data removed]",
      "text/plain": [
       "<Figure size 640x480 with 1 Axes>"
      ]
     },
     "metadata": {},
     "output_type": "display_data"
    }
   ],
   "source": [
    "# Visualizamos una muestra del dato\n",
    "plt.plot(X_train.iloc[7, :-1])\n",
    "plt.show()"
   ]
  },
  {
   "cell_type": "markdown",
   "metadata": {
    "id": "-1qrww3X6coo"
   },
   "source": [
    "Como se puede observar en la gráfica inicial de una muestra,\n",
    "el ECG muestra valores 0.0 para cuando no hay dato. Esto,\n",
    "provocará que se deban uniformizar los datos, y el\n",
    "largo de las secuencias para nuestra RNN."
   ]
  },
  {
   "cell_type": "markdown",
   "metadata": {
    "id": "tzO0z7of6coo"
   },
   "source": [
    "Verifiquemos, cuál es el largo de las secuencias, y qué\n",
    "frecuencia relativa tienen a través de un histograma."
   ]
  },
  {
   "cell_type": "code",
   "execution_count": 10,
   "metadata": {
    "colab": {
     "base_uri": "https://localhost:8080/"
    },
    "id": "YJk5btD16cop",
    "outputId": "e7467827-9124-4eaa-cb84-43e23e75dd05"
   },
   "outputs": [
    {
     "name": "stdout",
     "output_type": "stream",
     "text": [
      "\n",
      "Longitudes de las filas de los datos de entrenamiento:\n",
      "0         99\n",
      "1        135\n",
      "2         94\n",
      "3         94\n",
      "4        137\n",
      "        ... \n",
      "87548     59\n",
      "87549    114\n",
      "87550    122\n",
      "87551    124\n",
      "87552    124\n",
      "Length: 87553, dtype: int64\n",
      "\n",
      "Longitudes de las filas de los datos de test:\n",
      "0        122\n",
      "1         99\n",
      "2        108\n",
      "3        104\n",
      "4        114\n",
      "        ... \n",
      "21886    116\n",
      "21887    121\n",
      "21888    125\n",
      "21889    121\n",
      "21890    120\n",
      "Length: 21891, dtype: int64\n"
     ]
    }
   ],
   "source": [
    "excluded_values = [0.0] # Excluímos lo que será nuestro \"padding\"\n",
    "row_lengths_train = df_train[:-1].apply(lambda row: sum(~row.isin(excluded_values)), axis=1)\n",
    "row_lengths_test = df_test[:-1].apply(lambda row: sum(~row.isin(excluded_values)), axis=1)\n",
    "\n",
    "print(\"\\nLongitudes de las filas de los datos de entrenamiento:\")\n",
    "print(row_lengths_train)\n",
    "print(\"\\nLongitudes de las filas de los datos de test:\")\n",
    "print(row_lengths_test)"
   ]
  },
  {
   "cell_type": "code",
   "execution_count": 11,
   "metadata": {
    "colab": {
     "base_uri": "https://localhost:8080/",
     "height": 555
    },
    "id": "-GH-omSR6cop",
    "outputId": "5a359105-1c94-4d0f-ff54-977cbbd13fbd"
   },
   "outputs": [
    {
     "name": "stdout",
     "output_type": "stream",
     "text": [
      "Media: 110.7916119379119\n",
      "Desviación estándar: 27.469357677739158\n"
     ]
    },
    {
     "data": {
      "image/png": "[encoded data removed]",
      "text/plain": [
       "<Figure size 1000x600 with 1 Axes>"
      ]
     },
     "metadata": {},
     "output_type": "display_data"
    }
   ],
   "source": [
    "from scipy.stats import norm\n",
    "\n",
    "mu, std = norm.fit(row_lengths_train)\n",
    "print(f\"Media: {mu}\")\n",
    "print(f\"Desviación estándar: {std}\")\n",
    "\n",
    "plt.figure(figsize=(10, 6))\n",
    "plt.hist(row_lengths_train, bins=50, alpha=0.5, label=\"Train\")\n",
    "plt.hist(row_lengths_test, bins=50, alpha=0.5, label=\"Test\")\n",
    "plt.show()"
   ]
  },
  {
   "cell_type": "markdown",
   "metadata": {
    "id": "UEy9a3yv6cop"
   },
   "source": [
    "A partir de la gráfica, podría inferirse una distribución casi \"Gaussiana\". A partir de esto,\n",
    "es que vamos a considerar el valor de la media, más una desviación estándar como el largo\n",
    "de la secuencia."
   ]
  },
  {
   "cell_type": "code",
   "execution_count": 12,
   "metadata": {
    "id": "zWxR1BGK6cop"
   },
   "outputs": [],
   "source": [
    "# Dada una secuencia, se aplica de forma randómica \"ruido\".\n",
    "def aplicar_ruido(sec, nivel_ruido=0.01):\n",
    "\n",
    "    # Decidimos la operacia realizar sobre la secuencia\n",
    "\n",
    "    # operador = np.random.randint(-1, 1)\n",
    "\n",
    "    secuencia_modificada = [s + np.random.uniform(0,nivel_ruido) for s in sec]\n",
    "\n",
    "    # Luego, \"clipeamos\" los valores para que estén entre 0 y 1\n",
    "    # que son los valores máximo y mínimo que pueden\n",
    "    # tomar las secuencias.\n",
    "\n",
    "    secuencia_modificada = np.clip(secuencia_modificada, 0, 1)\n",
    "\n",
    "    return pd.Series(secuencia_modificada)"
   ]
  },
  {
   "cell_type": "code",
   "execution_count": null,
   "metadata": {
    "id": "6yjSOq6d6cop"
   },
   "outputs": [],
   "source": [
    "# Dado un conjunto de secuencias, se incorporan nuevos datos\n",
    "# aplicándose ruido a la secuencia original.\n",
    "def aplicar_ruido_a_conjunto(conjunto, nivel_ruido=0.01, cantidad_datos=1000):\n",
    "\n",
    "    nuevo_dataset = conjunto.copy()\n",
    "\n",
    "    for idx in tqdm_notebook(np.random.randint(0, len(conjunto), cantidad_datos)):\n",
    "        # Obtenemos una secuencia del conjunto de forma\n",
    "        # aleatoria.\n",
    "        secuencia = conjunto.iloc[idx]\n",
    "\n",
    "        # Aplicamos ruido a la secuencia.\n",
    "\n",
    "        secuencia_modificada = aplicar_ruido(secuencia, nivel_ruido)\n",
    "\n",
    "\n",
    "        # Agregamos la secuencia modificada al nuevo dataset.\n",
    "        nuevo_dataset.loc[len(nuevo_dataset)] = secuencia_modificada\n",
    "\n",
    "    return nuevo_dataset"
   ]
  },
  {
   "cell_type": "code",
   "execution_count": 12,
   "metadata": {
    "colab": {
     "base_uri": "https://localhost:8080/"
    },
    "id": "mYAwqqwR6cop",
    "outputId": "7ad1f200-1c59-4239-f9c6-306832b832f5"
   },
   "outputs": [
    {
     "name": "stdout",
     "output_type": "stream",
     "text": [
      "La totalidad de datos de test es: 87554\n",
      "187\n",
      "0.0    72471\n",
      "4.0     6431\n",
      "2.0     5788\n",
      "1.0     2223\n",
      "3.0      641\n",
      "Name: count, dtype: int64\n",
      "La cantidad de datos que deberíamos tener por clase adicional: 187\n",
      "4.0    66040\n",
      "2.0    66683\n",
      "1.0    70248\n",
      "3.0    71830\n",
      "Name: count, dtype: int64\n"
     ]
    }
   ],
   "source": [
    "# Vamos a crear datos suficientes, de cada clase, para que todas\n",
    "# las clases tengan la misma cantidad de datos.\n",
    "\n",
    "# Obtenemos los pesos relativos de cada clase\n",
    "class_weights = df_train.iloc[:, -1].value_counts()\n",
    "\n",
    "# Obtenemos la totalidad de los datos\n",
    "total_count = len(df_train)\n",
    "\n",
    "print(\"La totalidad de datos de test es:\", total_count)\n",
    "print(class_weights)\n",
    "# Calculamos la cantidad de datos que deberíamos tener\n",
    "# para cada clase.\n",
    "# Obtenemos el valor de la clase mayoritaria\n",
    "max_class = class_weights.max()\n",
    "class_counts = (max_class) - round((class_weights.iloc[1:]))\n",
    "print(\"La cantidad de datos que deberíamos tener por clase adicional:\", class_counts)"
   ]
  },
  {
   "cell_type": "markdown",
   "metadata": {
    "id": "DAaSwZgr6cop"
   },
   "source": [
    "En primera instancia, vamos a reducir la clase \"normal\" para obtener cantidades\n",
    "similares a las demás clases. Nos quedaremos, en primera instancia, con el 10%\n",
    "de los valores pertenecientes a la clase normal."
   ]
  },
  {
   "cell_type": "markdown",
   "metadata": {
    "id": "PP5HH6Lk6coq"
   },
   "source": [
    "Definir dataset\n",
    "# Definir dataloader\n",
    "\n",
    "\n",
    "Vamos a definir una clase dataset customizada, y posteriormente, creamos una función\n",
    "\"get_dataloaders\" para obtener los dataloaders."
   ]
  },
  {
   "cell_type": "code",
   "execution_count": 13,
   "metadata": {
    "id": "f1FkQXxL6coq"
   },
   "outputs": [],
   "source": [
    "class ECGDataSet(Dataset):\n",
    "    def __init__(self, x_features, y_features, num_classes):\n",
    "        self.x_df = x_features.values\n",
    "        self.y_df = y_features.values\n",
    "        self.num_classes = num_classes\n",
    "\n",
    "    def __len__(self):\n",
    "        return len(self.x_df)\n",
    "\n",
    "    def __getitem__(self, idx):\n",
    "        x = torch.tensor(self.x_df[idx], dtype=torch.float32)\n",
    "        y = torch.tensor(self.y_df[idx], dtype=torch.long)\n",
    "        return x, y"
   ]
  },
  {
   "cell_type": "code",
   "execution_count": 14,
   "metadata": {
    "id": "2uiufzZQ6coq"
   },
   "outputs": [],
   "source": [
    "# train_len = len(df_train)\n",
    "# train_dataset, val_dataset = random_split(df_train, [0.95, 0.05])\n",
    "# train_dataset = df_train.sample(n=8960, random_state=43)\n",
    "\n",
    "# train_dataset = ECGDataSet(X_train, nclasses)\n",
    "# val_dataset = ECGDataSet(X_test, nclasses)\n",
    "# test_dataset = ECGDataSet(X_test, nclasses)\n",
    "\n",
    "# from sklearn.model_selection import train_test_split\n",
    "\n",
    "# Stratified split\n",
    "X_train_stratified, X_val_stratified, y_train_stratified, y_val_stratified = train_test_split(X_train, y_train, test_size=0.2, stratify=y_train, random_state=42)\n",
    "\n",
    "train_dataset = ECGDataSet(X_train_stratified, y_train_stratified, nclasses)\n",
    "val_dataset = ECGDataSet(X_val_stratified, y_val_stratified, nclasses)\n",
    "test_dataset = ECGDataSet(X_test, y_test, nclasses)\n",
    "\n",
    "def get_data_loaders(batch_size):\n",
    "\n",
    "    train_loader = DataLoader(\n",
    "        train_dataset, batch_size=batch_size, shuffle=True, num_workers=NUM_WORKERS\n",
    "    )\n",
    "\n",
    "    val_loader = DataLoader(\n",
    "        val_dataset, batch_size=batch_size, shuffle=False, num_workers=NUM_WORKERS\n",
    "    )\n",
    "\n",
    "    test_loader = DataLoader(\n",
    "        test_dataset, batch_size=batch_size, shuffle=False, num_workers=NUM_WORKERS\n",
    "    )\n",
    "\n",
    "    return train_loader, val_loader, test_loader"
   ]
  },
  {
   "cell_type": "code",
   "execution_count": 15,
   "metadata": {
    "id": "gl-fERo46coq"
   },
   "outputs": [],
   "source": [
    "# Definimos algunas variables\n",
    "HIDDEN_SIZE = 512\n",
    "BATCH_SIZE = 128\n",
    "INPUT_SIZE = 187 # Largo de las secuencias\n",
    "\n",
    "# Definimos los dataloaders\n",
    "train_loader, val_loader, test_loader = get_data_loaders(BATCH_SIZE)\n"
   ]
  },
  {
   "cell_type": "code",
   "execution_count": 16,
   "metadata": {
    "colab": {
     "base_uri": "https://localhost:8080/"
    },
    "id": "8oNraEMF6coq",
    "outputId": "0ef88e09-fe64-4765-880d-b95a1f07572a"
   },
   "outputs": [
    {
     "name": "stdout",
     "output_type": "stream",
     "text": [
      "torch.Size([128, 187]) torch.Size([128])\n"
     ]
    }
   ],
   "source": [
    "# Probamos el dataloader\n",
    "\n",
    "# probamos un batch del DataLoader\n",
    "x_batch, y_batch = next(iter(train_loader))\n",
    "print(x_batch.shape, y_batch.shape)"
   ]
  },
  {
   "cell_type": "code",
   "execution_count": 17,
   "metadata": {
    "colab": {
     "base_uri": "https://localhost:8080/"
    },
    "id": "qQlz2MrB6coq",
    "outputId": "2be51a98-46ee-4cff-82d7-78282f16ead0"
   },
   "outputs": [
    {
     "data": {
      "text/plain": [
       "==========================================================================================\n",
       "Layer (type:depth-idx)                   Output Shape              Param #\n",
       "==========================================================================================\n",
       "RNNModel                                 [128, 5]                  --\n",
       "├─LSTM: 1-1                              [128, 1, 512]             5,638,144\n",
       "├─Linear: 1-2                            [128, 5]                  2,565\n",
       "==========================================================================================\n",
       "Total params: 5,640,709\n",
       "Trainable params: 5,640,709\n",
       "Non-trainable params: 0\n",
       "Total mult-adds (M): 722.01\n",
       "==========================================================================================\n",
       "Input size (MB): 0.10\n",
       "Forward/backward pass size (MB): 0.53\n",
       "Params size (MB): 22.56\n",
       "Estimated Total Size (MB): 23.19\n",
       "=========================================================================================="
      ]
     },
     "execution_count": 17,
     "metadata": {},
     "output_type": "execute_result"
    }
   ],
   "source": [
    "class RNNModel(nn.Module):\n",
    "    def __init__(self, input_size, hidden_size, num_classes):\n",
    "        super(RNNModel, self).__init__()\n",
    "        self.hidden_size = hidden_size\n",
    "        self.rnn = nn.LSTM(input_size, hidden_size, num_layers=3, batch_first=True)\n",
    "        self.fc = nn.Linear(hidden_size, num_classes)\n",
    "\n",
    "    def forward(self, x):\n",
    "        x = x.unsqueeze(1)\n",
    "        _, (hidden, _) = self.rnn(x)\n",
    "        # _, hidden = self.rnn(x)\n",
    "        out = self.fc(hidden[-1])\n",
    "        return out\n",
    "\n",
    "summary(\n",
    "    RNNModel(INPUT_SIZE, HIDDEN_SIZE, nclasses),\n",
    "    input_size=(BATCH_SIZE, INPUT_SIZE),\n",
    "    dtypes=[torch.float32],\n",
    ")"
   ]
  },
  {
   "cell_type": "code",
   "execution_count": 18,
   "metadata": {
    "colab": {
     "base_uri": "https://localhost:8080/"
    },
    "id": "SndK8HGB6coq",
    "outputId": "5e58ce98-2e34-40b5-b772-8add53a0afc4"
   },
   "outputs": [
    {
     "name": "stdout",
     "output_type": "stream",
     "text": [
      "Epoch: 001 | Train Loss: 0.72242 | Val Loss: 0.54758\n",
      "Epoch: 002 | Train Loss: 0.46094 | Val Loss: 0.40313\n",
      "Epoch: 003 | Train Loss: 0.38515 | Val Loss: 0.36385\n",
      "Epoch: 004 | Train Loss: 0.34508 | Val Loss: 0.32317\n",
      "Epoch: 005 | Train Loss: 0.31209 | Val Loss: 0.29027\n",
      "Epoch: 006 | Train Loss: 0.28345 | Val Loss: 0.26628\n",
      "Epoch: 007 | Train Loss: 0.25257 | Val Loss: 0.23598\n",
      "Epoch: 008 | Train Loss: 0.22407 | Val Loss: 0.21334\n",
      "Epoch: 009 | Train Loss: 0.20629 | Val Loss: 0.19611\n",
      "Epoch: 010 | Train Loss: 0.19368 | Val Loss: 0.18948\n"
     ]
    }
   ],
   "source": [
    "rnn_model = RNNModel(\n",
    "    input_size=INPUT_SIZE   , hidden_size=HIDDEN_SIZE, num_classes=nclasses\n",
    ").to(DEVICE)\n",
    "\n",
    "rnn_optimizer = optim.Adam(rnn_model.parameters(), lr=0.0001)\n",
    "# CRITERION = nn.BCELoss().to(DEVICE)\n",
    "CRITERION = nn.CrossEntropyLoss()\n",
    "\n",
    "_, _ = train(\n",
    "    rnn_model,\n",
    "    optimizer=rnn_optimizer,\n",
    "    criterion=CRITERION,\n",
    "    train_loader=train_loader,\n",
    "    val_loader=val_loader,\n",
    "    device=DEVICE,\n",
    "    do_early_stopping=False,\n",
    "    epochs=10,\n",
    ")"
   ]
  },
  {
   "cell_type": "code",
   "execution_count": 25,
   "metadata": {
    "colab": {
     "base_uri": "https://localhost:8080/"
    },
    "id": "zpK7YigsUAkU",
    "outputId": "f36ed47c-16ef-4637-c6b4-dfbcaf8869f6"
   },
   "outputs": [
    {
     "name": "stdout",
     "output_type": "stream",
     "text": [
      "Accuracy: 0.9479\n",
      "\n",
      "Reporte de clasificación:\n",
      "               precision    recall  f1-score   support\n",
      "\n",
      "           0       0.95      0.99      0.97     18118\n",
      "           1       0.86      0.44      0.58       556\n",
      "           2       0.91      0.74      0.82      1448\n",
      "           3       0.44      0.15      0.22       162\n",
      "           4       0.98      0.88      0.92      1608\n",
      "\n",
      "    accuracy                           0.95     21892\n",
      "   macro avg       0.83      0.64      0.70     21892\n",
      "weighted avg       0.94      0.95      0.94     21892\n",
      "\n"
     ]
    }
   ],
   "source": [
    "model_calassification_report(rnn_model, test_loader, DEVICE, nclasses)"
   ]
  },
  {
   "cell_type": "markdown",
   "metadata": {
    "id": "agJfUBAl6coq"
   },
   "source": [
    "Ahora, procedemos a balancear las clases, habiendo obtenido por cada una el total necesario\n",
    "para balancearlas."
   ]
  },
  {
   "cell_type": "code",
   "execution_count": null,
   "metadata": {
    "id": "nfLNcrQG6cor"
   },
   "outputs": [],
   "source": [
    "def balancear_datasets(dataset, nivel_ruido=0.01):\n",
    "    # Creamos un nuevo dataset\n",
    "    nuevo_dataset = dataset.copy()\n",
    "\n",
    "    # Obtenemos los pesos relativos de cada clase\n",
    "    class_weights = dataset.iloc[:, -1].value_counts()\n",
    "\n",
    "    # Calculamos la cantidad de datos que deberíamos tener\n",
    "    # para cada clase.\n",
    "    # Obtenemos el valor de la clase mayoritaria\n",
    "    max_class = class_weights.max()\n",
    "\n",
    "    class_counts = (max_class) - round((class_weights.iloc[1:]))\n",
    "    # print(\"La cantidad de datos que deberíamos tener por clase adicional:\", class_counts)\n",
    "\n",
    "    # Para cada clase, generamos datos adicionales\n",
    "    for clase, cantidad in class_counts.items():\n",
    "        # Obtenemos los datos de la clase\n",
    "        datos_clase = dataset[dataset.iloc[:, -1] == clase]\n",
    "\n",
    "        # Generamos datos adicionales\n",
    "        datos_adicionales = aplicar_ruido_a_conjunto(datos_clase, nivel_ruido, cantidad_datos=100)\n",
    "\n",
    "        # Agregamos los datos adicionales al nuevo dataset\n",
    "        nuevo_dataset = pd.concat([nuevo_dataset, datos_adicionales], axis=0)\n",
    "\n",
    "    return nuevo_dataset"
   ]
  },
  {
   "cell_type": "code",
   "execution_count": null,
   "metadata": {
    "id": "ftHXhxe_6cor"
   },
   "outputs": [],
   "source": [
    "df_train_balanceado = balancear_datasets(df_train, nivel_ruido=0.01)"
   ]
  },
  {
   "cell_type": "markdown",
   "metadata": {
    "id": "omw3KTON6cor"
   },
   "source": [
    "Analizamos nuevamente el status de los datos, para verificar si la aplicación\n",
    "de \"data augmentation\" incrementó la cantidad. El efecto de ésta técnica,\n",
    "sobre la \"calidad\" del modelo, se evaluará posteriormente."
   ]
  },
  {
   "cell_type": "code",
   "execution_count": null,
   "metadata": {
    "id": "M1JVGKSg6cor"
   },
   "outputs": [],
   "source": [
    "class_count = df_train_balanceado.iloc[:, -1].value_counts()\n",
    "print(class_count)\n",
    "\n",
    "class_count.sort_index().plot(kind=\"bar\")"
   ]
  },
  {
   "cell_type": "markdown",
   "metadata": {
    "id": "VBIMuhxF6cor"
   },
   "source": [
    "Comenzaremos ahora, con la generación del modelo.\n",
    "Desarrollaremos primero, una red recurrente \"simple\", y evaluaremos su desempeño."
   ]
  },
  {
   "cell_type": "markdown",
   "metadata": {
    "id": "TL9Y16W46cor"
   },
   "source": [
    "Primero, cargamos los dataloaders con los datos obtenidos\n",
    "del dataset."
   ]
  },
  {
   "cell_type": "code",
   "execution_count": null,
   "metadata": {
    "id": "K97rVoEi6cos"
   },
   "outputs": [],
   "source": [
    "POSSIBLE_VALUES = 1000\n",
    "EMBEDDING_DIM = 64\n",
    "BATCH_SIZE = 64\n",
    "SEQUENCE_LENGTH = 187"
   ]
  },
  {
   "cell_type": "code",
   "execution_count": null,
   "metadata": {
    "id": "BKpa_Ntf6cos"
   },
   "outputs": [],
   "source": [
    "train_len = len(df_train_balanceado)\n",
    "val_len = int(0.2 * train_len)\n",
    "train_dataset, val_dataset = random_split(df_train_balanceado, [train_len - val_len, val_len])\n",
    "\n",
    "train_loader = DataLoader(df_train_balanceado, batch_size=BATCH_SIZE, shuffle=True)\n",
    "val_loader = DataLoader(val_dataset, batch_size=BATCH_SIZE, shuffle=False)\n",
    "test_loader = DataLoader(df_test, batch_size=BATCH_SIZE, shuffle=False)"
   ]
  },
  {
   "cell_type": "code",
   "execution_count": null,
   "metadata": {
    "id": "nvCew1Sj6cos"
   },
   "outputs": [],
   "source": [
    "class DiagnosticoV1RNN(nn.Module):\n",
    "    def __init__(self, vocab_size, embedding_dim, hidden_dim):\n",
    "        super(DiagnosticoV1RNN, self).__init__()\n",
    "        self.embed = nn.Embedding(vocab_size, embedding_dim, padding_idx=0)\n",
    "        self.rnn = nn.RNN(embedding_dim, hidden_dim, batch_first=True)\n",
    "        self.output = nn.Linear(hidden_dim, 5)\n",
    "\n",
    "\n",
    "    def forward(self, x):\n",
    "      # x: [BATCH_SIZE, SEQUENCE_LEN]\n",
    "      x = self.embed(x)\n",
    "      # x: [BATCH_SIZE, SEQUENCE_LEN, EMBEDDING_DIM]\n",
    "      _, hidden = self.rnn(x)\n",
    "      # hidden: [1, BATCH_SIZE, HIDDEN_DIM]\n",
    "      x = hidden.squeeze(0)\n",
    "      # hidden: [BATCH_SIZE, HIDDEN_DIM]\n",
    "      x = self.output(x)\n",
    "      # x: [BATCH_SIZE]\n",
    "      return F.sigmoid(x)\n",
    "\n",
    "\n",
    "summary(\n",
    "    DiagnosticoV1RNN(POSSIBLE_VALUES, EMBEDDING_DIM, 512),\n",
    "    input_size=(BATCH_SIZE, SEQUENCE_LENGTH),\n",
    "    dtypes=[torch.int32],\n",
    ")"
   ]
  },
  {
   "cell_type": "code",
   "execution_count": null,
   "metadata": {
    "id": "9mSSf4gI6cos"
   },
   "outputs": [],
   "source": [
    "rnn_model = DiagnosticoV1RNN(\n",
    "    vocab_size=POSSIBLE_VALUES, embedding_dim=EMBEDDING_DIM, hidden_dim=512\n",
    ").to(DEVICE)\n",
    "rnn_optimizer = optim.Adam(rnn_model.parameters(), lr=0.0001)"
   ]
  },
  {
   "cell_type": "code",
   "execution_count": null,
   "metadata": {
    "id": "8hnlZ7vd6cot"
   },
   "outputs": [],
   "source": [
    "CRITERION = nn.BCELoss().to(DEVICE)"
   ]
  },
  {
   "cell_type": "code",
   "execution_count": null,
   "metadata": {
    "id": "fncdwvDp6cot"
   },
   "outputs": [],
   "source": [
    "def model_accuracy(model, data_loader):\n",
    "    model.eval()\n",
    "    with torch.no_grad():\n",
    "        y_true = []\n",
    "        y_pred = []\n",
    "        for x, y in data_loader:\n",
    "            x, y = x.to(DEVICE), y.to(DEVICE)\n",
    "            out = torch.where(model(x) > 0.5, 1, 0)\n",
    "            y_true.extend(y.cpu().numpy())\n",
    "            y_pred.extend(out.cpu().numpy())\n",
    "        print(f\"Accuracy: {np.mean(np.array(y_true) == np.array(y_pred)) * 100:.2f}%\")"
   ]
  },
  {
   "cell_type": "code",
   "execution_count": null,
   "metadata": {
    "id": "GC_9w4aN6cot"
   },
   "outputs": [],
   "source": [
    "_, _ = train(\n",
    "    rnn_model,\n",
    "    optimizer=rnn_optimizer,\n",
    "    criterion=CRITERION,\n",
    "    train_loader=train_loader,\n",
    "    val_loader=val_loader,\n",
    "    device=DEVICE,\n",
    "    do_early_stopping=False,\n",
    "    epochs=10,\n",
    ")"
   ]
  }
 ],
 "metadata": {
  "accelerator": "GPU",
  "colab": {
   "gpuType": "T4",
   "provenance": []
  },
  "kernelspec": {
   "display_name": "Python 3",
   "name": "python3"
  },
  "language_info": {
   "codemirror_mode": {
    "name": "ipython",
    "version": 3
   },
   "file_extension": ".py",
   "mimetype": "text/x-python",
   "name": "python",
   "nbconvert_exporter": "python",
   "pygments_lexer": "ipython3",
   "version": "3.8.18"
  }
 },
 "nbformat": 4,
 "nbformat_minor": 0
}
